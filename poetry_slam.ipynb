{
 "cells": [
  {
   "cell_type": "markdown",
   "metadata": {},
   "source": [
    "# Transformer based Poetry generator\n",
    "\n",
    "This very small language model puts forth its soul by generating clumsy poetry, trained on the works of Emily Dickinson"
   ]
  },
  {
   "cell_type": "code",
   "execution_count": 1,
   "metadata": {},
   "outputs": [],
   "source": [
    "#Load packages\n",
    "import torch\n",
    "from mytorch.models.transformer_net import TransNet\n",
    "from mytorch.data_utils import WordTokenizer, get_poems"
   ]
  },
  {
   "cell_type": "markdown",
   "metadata": {},
   "source": [
    "# Load Data, Tokenize, and Initialize network\n",
    "\n",
    "Load in the text data and use a word level tokenizer to encode it. Then define model parameters and initialize the network."
   ]
  },
  {
   "cell_type": "code",
   "execution_count": 2,
   "metadata": {},
   "outputs": [
    {
     "name": "stdout",
     "output_type": "stream",
     "text": [
      "\n",
      "\n",
      "Her message is committed\n",
      "To hands I cannot see;\n",
      "For love of her, sweet countrymen,\n",
      "Judge tenderly of me!\n",
      "---\n",
      "Success is counted sweetest\n",
      "By those who ne'er succeed.\n",
      "To comprehend a nectar\n",
      "Requires sorest need.\n",
      "Using device: mps\n"
     ]
    }
   ],
   "source": [
    "text = get_poems(\"emily.txt\")\n",
    "print(text[113:324])\n",
    "\n",
    "device = (\n",
    "    \"cuda\" if torch.cuda.is_available()\n",
    "    else \"mps\" if torch.backends.mps.is_available()\n",
    "    else \"cpu\"\n",
    ")\n",
    "print(f'Using device: {device}')\n",
    "\n",
    "T = 32 #sequence length\n",
    "tokenizer= WordTokenizer(text, T, device=device)\n",
    "\n",
    "\n",
    "# Parameters\n",
    "vocab_dim = tokenizer.vocab_len\n",
    "embed_dim = 512\n",
    "nheads = 8\n",
    "nlayers = 6\n",
    "nfc= 4*embed_dim\n",
    "dropout = 0.1\n",
    "batch_size = 64 \n",
    "\n",
    "\n",
    "\n",
    "# Initialize model\n",
    "model = TransNet(vocab_dim, embed_dim, nheads,nlayers, nfc, dropout, device=device)\n"
   ]
  },
  {
   "cell_type": "markdown",
   "metadata": {},
   "source": [
    "# Train the model\n",
    "\n",
    "Define parameters for training, the optimizer, and finally, train the model"
   ]
  },
  {
   "cell_type": "code",
   "execution_count": 3,
   "metadata": {},
   "outputs": [
    {
     "data": {
      "application/vnd.jupyter.widget-view+json": {
       "model_id": "618815d6bccc49bcb88998941631ac5e",
       "version_major": 2,
       "version_minor": 0
      },
      "text/plain": [
       "  0%|          | 0/888 [00:00<?, ?it/s]"
      ]
     },
     "metadata": {},
     "output_type": "display_data"
    },
    {
     "data": {
      "application/vnd.jupyter.widget-view+json": {
       "model_id": "0b05e023433e495296c0fd9d7eaf24f0",
       "version_major": 2,
       "version_minor": 0
      },
      "text/plain": [
       "  0%|          | 0/888 [00:00<?, ?it/s]"
      ]
     },
     "metadata": {},
     "output_type": "display_data"
    },
    {
     "data": {
      "application/vnd.jupyter.widget-view+json": {
       "model_id": "b20ea671933a4a67a8ff1ab6192f2266",
       "version_major": 2,
       "version_minor": 0
      },
      "text/plain": [
       "  0%|          | 0/888 [00:00<?, ?it/s]"
      ]
     },
     "metadata": {},
     "output_type": "display_data"
    },
    {
     "data": {
      "application/vnd.jupyter.widget-view+json": {
       "model_id": "40b64e604e224e578f6dc381f9c88ef2",
       "version_major": 2,
       "version_minor": 0
      },
      "text/plain": [
       "  0%|          | 0/888 [00:00<?, ?it/s]"
      ]
     },
     "metadata": {},
     "output_type": "display_data"
    },
    {
     "data": {
      "image/png": "[encoded data removed]",
      "text/plain": [
       "<Figure size 640x480 with 1 Axes>"
      ]
     },
     "metadata": {},
     "output_type": "display_data"
    }
   ],
   "source": [
    "# Parameters \n",
    "optimizer = torch.optim.Adam(model.parameters(), lr=8e-4)\n",
    "epochs = 4\n",
    "\n",
    "model.train_model(tokenizer, T, batch_size, epochs, optimizer, save=\"trans_net.pt\")"
   ]
  },
  {
   "cell_type": "markdown",
   "metadata": {},
   "source": [
    "# Generate Text\n",
    "\n",
    "Include an initial seed prompt, and number of desired tokens to generate. Encode the prompt, pass it to the model, and decode for poetry."
   ]
  },
  {
   "cell_type": "code",
   "execution_count": 11,
   "metadata": {},
   "outputs": [
    {
     "name": "stdout",
     "output_type": "stream",
     "text": [
      "hope is a thing;\n",
      "but by the amiss\n",
      "lead nature here, --\n",
      "\n",
      "in broken mathematics\n",
      "we estimate our our our our our our our our our our our our our\n"
     ]
    }
   ],
   "source": [
    "# Input\n",
    "prompt = \"hope is a thing\"\n",
    "num_tokens = 50\n",
    "enc_prompt = torch.tensor(tokenizer.encode(prompt))\n",
    "encoded_out = model.generate(enc_prompt, num_tokens,T, device)\n",
    "decoded = tokenizer.decode(encoded_out)\n",
    "print(decoded)"
   ]
  }
 ],
 "metadata": {
  "kernelspec": {
   "display_name": "base",
   "language": "python",
   "name": "python3"
  },
  "language_info": {
   "codemirror_mode": {
    "name": "ipython",
    "version": 3
   },
   "file_extension": ".py",
   "mimetype": "text/x-python",
   "name": "python",
   "nbconvert_exporter": "python",
   "pygments_lexer": "ipython3",
   "version": "3.12.4"
  }
 },
 "nbformat": 4,
 "nbformat_minor": 2
}
